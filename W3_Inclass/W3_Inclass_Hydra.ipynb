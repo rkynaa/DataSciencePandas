{
 "cells": [
  {
   "cell_type": "code",
   "execution_count": 2,
   "metadata": {},
   "outputs": [],
   "source": [
    "import pandas as pd"
   ]
  },
  {
   "cell_type": "markdown",
   "metadata": {},
   "source": [
    "# Study case: Stock"
   ]
  },
  {
   "cell_type": "markdown",
   "metadata": {},
   "source": [
    "The Pandas datareader is a sub package that allows one to create a dataframe from various internet datasources, currently including:\n",
    "\n",
    "- Yahoo! Finance\n",
    "- Google Finance\n",
    "- St.Louis FED (FRED)\n",
    "- Kenneth French’s data library\n",
    "- World Bank\n",
    "- Google Analytics"
   ]
  },
  {
   "cell_type": "code",
   "execution_count": null,
   "metadata": {},
   "outputs": [],
   "source": [
    "from pandas_datareader import data"
   ]
  },
  {
   "cell_type": "code",
   "execution_count": 10,
   "metadata": {
    "scrolled": true
   },
   "outputs": [
    {
     "data": {
      "text/html": [
       "<div>\n",
       "<style scoped>\n",
       "    .dataframe tbody tr th:only-of-type {\n",
       "        vertical-align: middle;\n",
       "    }\n",
       "\n",
       "    .dataframe tbody tr th {\n",
       "        vertical-align: top;\n",
       "    }\n",
       "\n",
       "    .dataframe thead tr th {\n",
       "        text-align: left;\n",
       "    }\n",
       "\n",
       "    .dataframe thead tr:last-of-type th {\n",
       "        text-align: right;\n",
       "    }\n",
       "</style>\n",
       "<table border=\"1\" class=\"dataframe\">\n",
       "  <thead>\n",
       "    <tr>\n",
       "      <th>Attributes</th>\n",
       "      <th colspan=\"3\" halign=\"left\">Adj Close</th>\n",
       "      <th colspan=\"3\" halign=\"left\">Close</th>\n",
       "      <th colspan=\"3\" halign=\"left\">High</th>\n",
       "      <th colspan=\"3\" halign=\"left\">Low</th>\n",
       "      <th colspan=\"3\" halign=\"left\">Open</th>\n",
       "      <th colspan=\"3\" halign=\"left\">Volume</th>\n",
       "    </tr>\n",
       "    <tr>\n",
       "      <th>Symbols</th>\n",
       "      <th>AAPL</th>\n",
       "      <th>FB</th>\n",
       "      <th>GOOGL</th>\n",
       "      <th>AAPL</th>\n",
       "      <th>FB</th>\n",
       "      <th>GOOGL</th>\n",
       "      <th>AAPL</th>\n",
       "      <th>FB</th>\n",
       "      <th>GOOGL</th>\n",
       "      <th>AAPL</th>\n",
       "      <th>FB</th>\n",
       "      <th>GOOGL</th>\n",
       "      <th>AAPL</th>\n",
       "      <th>FB</th>\n",
       "      <th>GOOGL</th>\n",
       "      <th>AAPL</th>\n",
       "      <th>FB</th>\n",
       "      <th>GOOGL</th>\n",
       "    </tr>\n",
       "    <tr>\n",
       "      <th>Date</th>\n",
       "      <th></th>\n",
       "      <th></th>\n",
       "      <th></th>\n",
       "      <th></th>\n",
       "      <th></th>\n",
       "      <th></th>\n",
       "      <th></th>\n",
       "      <th></th>\n",
       "      <th></th>\n",
       "      <th></th>\n",
       "      <th></th>\n",
       "      <th></th>\n",
       "      <th></th>\n",
       "      <th></th>\n",
       "      <th></th>\n",
       "      <th></th>\n",
       "      <th></th>\n",
       "      <th></th>\n",
       "    </tr>\n",
       "  </thead>\n",
       "  <tbody>\n",
       "    <tr>\n",
       "      <td>2018-01-02</td>\n",
       "      <td>167.701889</td>\n",
       "      <td>181.419998</td>\n",
       "      <td>1073.209961</td>\n",
       "      <td>172.259995</td>\n",
       "      <td>181.419998</td>\n",
       "      <td>1073.209961</td>\n",
       "      <td>172.300003</td>\n",
       "      <td>181.580002</td>\n",
       "      <td>1075.979980</td>\n",
       "      <td>169.259995</td>\n",
       "      <td>177.550003</td>\n",
       "      <td>1053.020020</td>\n",
       "      <td>170.160004</td>\n",
       "      <td>177.679993</td>\n",
       "      <td>1053.020020</td>\n",
       "      <td>25555900.0</td>\n",
       "      <td>18151900.0</td>\n",
       "      <td>1588300.0</td>\n",
       "    </tr>\n",
       "    <tr>\n",
       "      <td>2018-01-03</td>\n",
       "      <td>167.672668</td>\n",
       "      <td>184.669998</td>\n",
       "      <td>1091.520020</td>\n",
       "      <td>172.229996</td>\n",
       "      <td>184.669998</td>\n",
       "      <td>1091.520020</td>\n",
       "      <td>174.550003</td>\n",
       "      <td>184.779999</td>\n",
       "      <td>1096.099976</td>\n",
       "      <td>171.960007</td>\n",
       "      <td>181.330002</td>\n",
       "      <td>1073.430054</td>\n",
       "      <td>172.529999</td>\n",
       "      <td>181.880005</td>\n",
       "      <td>1073.930054</td>\n",
       "      <td>29517900.0</td>\n",
       "      <td>16886600.0</td>\n",
       "      <td>1565900.0</td>\n",
       "    </tr>\n",
       "    <tr>\n",
       "      <td>2018-01-04</td>\n",
       "      <td>168.451508</td>\n",
       "      <td>184.330002</td>\n",
       "      <td>1095.760010</td>\n",
       "      <td>173.029999</td>\n",
       "      <td>184.330002</td>\n",
       "      <td>1095.760010</td>\n",
       "      <td>173.470001</td>\n",
       "      <td>186.210007</td>\n",
       "      <td>1104.079956</td>\n",
       "      <td>172.080002</td>\n",
       "      <td>184.100006</td>\n",
       "      <td>1094.260010</td>\n",
       "      <td>172.539993</td>\n",
       "      <td>184.899994</td>\n",
       "      <td>1097.089966</td>\n",
       "      <td>22434600.0</td>\n",
       "      <td>13880900.0</td>\n",
       "      <td>1302600.0</td>\n",
       "    </tr>\n",
       "    <tr>\n",
       "      <td>2018-01-05</td>\n",
       "      <td>170.369385</td>\n",
       "      <td>186.850006</td>\n",
       "      <td>1110.290039</td>\n",
       "      <td>175.000000</td>\n",
       "      <td>186.850006</td>\n",
       "      <td>1110.290039</td>\n",
       "      <td>175.369995</td>\n",
       "      <td>186.899994</td>\n",
       "      <td>1113.579956</td>\n",
       "      <td>173.050003</td>\n",
       "      <td>184.929993</td>\n",
       "      <td>1101.800049</td>\n",
       "      <td>173.440002</td>\n",
       "      <td>185.589996</td>\n",
       "      <td>1103.449951</td>\n",
       "      <td>23660000.0</td>\n",
       "      <td>13574500.0</td>\n",
       "      <td>1512500.0</td>\n",
       "    </tr>\n",
       "    <tr>\n",
       "      <td>2018-01-08</td>\n",
       "      <td>169.736588</td>\n",
       "      <td>188.279999</td>\n",
       "      <td>1114.209961</td>\n",
       "      <td>174.350006</td>\n",
       "      <td>188.279999</td>\n",
       "      <td>1114.209961</td>\n",
       "      <td>175.610001</td>\n",
       "      <td>188.899994</td>\n",
       "      <td>1119.160034</td>\n",
       "      <td>173.929993</td>\n",
       "      <td>186.330002</td>\n",
       "      <td>1110.000000</td>\n",
       "      <td>174.350006</td>\n",
       "      <td>187.199997</td>\n",
       "      <td>1111.000000</td>\n",
       "      <td>20567800.0</td>\n",
       "      <td>17994700.0</td>\n",
       "      <td>1232200.0</td>\n",
       "    </tr>\n",
       "  </tbody>\n",
       "</table>\n",
       "</div>"
      ],
      "text/plain": [
       "Attributes   Adj Close                                Close              \\\n",
       "Symbols           AAPL          FB        GOOGL        AAPL          FB   \n",
       "Date                                                                      \n",
       "2018-01-02  167.701889  181.419998  1073.209961  172.259995  181.419998   \n",
       "2018-01-03  167.672668  184.669998  1091.520020  172.229996  184.669998   \n",
       "2018-01-04  168.451508  184.330002  1095.760010  173.029999  184.330002   \n",
       "2018-01-05  170.369385  186.850006  1110.290039  175.000000  186.850006   \n",
       "2018-01-08  169.736588  188.279999  1114.209961  174.350006  188.279999   \n",
       "\n",
       "Attributes                     High                                  Low  \\\n",
       "Symbols           GOOGL        AAPL          FB        GOOGL        AAPL   \n",
       "Date                                                                       \n",
       "2018-01-02  1073.209961  172.300003  181.580002  1075.979980  169.259995   \n",
       "2018-01-03  1091.520020  174.550003  184.779999  1096.099976  171.960007   \n",
       "2018-01-04  1095.760010  173.470001  186.210007  1104.079956  172.080002   \n",
       "2018-01-05  1110.290039  175.369995  186.899994  1113.579956  173.050003   \n",
       "2018-01-08  1114.209961  175.610001  188.899994  1119.160034  173.929993   \n",
       "\n",
       "Attributes                                 Open                           \\\n",
       "Symbols             FB        GOOGL        AAPL          FB        GOOGL   \n",
       "Date                                                                       \n",
       "2018-01-02  177.550003  1053.020020  170.160004  177.679993  1053.020020   \n",
       "2018-01-03  181.330002  1073.430054  172.529999  181.880005  1073.930054   \n",
       "2018-01-04  184.100006  1094.260010  172.539993  184.899994  1097.089966   \n",
       "2018-01-05  184.929993  1101.800049  173.440002  185.589996  1103.449951   \n",
       "2018-01-08  186.330002  1110.000000  174.350006  187.199997  1111.000000   \n",
       "\n",
       "Attributes      Volume                         \n",
       "Symbols           AAPL          FB      GOOGL  \n",
       "Date                                           \n",
       "2018-01-02  25555900.0  18151900.0  1588300.0  \n",
       "2018-01-03  29517900.0  16886600.0  1565900.0  \n",
       "2018-01-04  22434600.0  13880900.0  1302600.0  \n",
       "2018-01-05  23660000.0  13574500.0  1512500.0  \n",
       "2018-01-08  20567800.0  17994700.0  1232200.0  "
      ]
     },
     "execution_count": 10,
     "metadata": {},
     "output_type": "execute_result"
    }
   ],
   "source": [
    "symbol = ['AAPL','FB','GOOGL']\n",
    "source = 'yahoo'\n",
    "start_date = '2018-01-01'\n",
    "end_date = '2019-04-24'\n",
    "\n",
    "stock = data.DataReader(symbol,\n",
    "               source,\n",
    "               start_date,\n",
    "               end_date)\n",
    "\n",
    "stock.head()"
   ]
  },
  {
   "cell_type": "markdown",
   "metadata": {},
   "source": [
    "If you do not have the `pandas_datareader` module installed, or if you're following along this coursebook without an active connection, you can instead load it from the serialized object I stored in your `data_cache` folder. \n",
    "\n",
    "Creating the DataFrame object by reading from `pickle`:\n",
    "- `stock = pd.read_pickle('data_cache/stock')`\n",
    "\n",
    "Serializing the DataFrame object to a byte stream using `pickle`:\n",
    "- `stock.to_pickle('data_cache/stock')`"
   ]
  },
  {
   "cell_type": "code",
   "execution_count": null,
   "metadata": {},
   "outputs": [],
   "source": [
    "stock.to_pickle('stock')"
   ]
  },
  {
   "cell_type": "code",
   "execution_count": null,
   "metadata": {},
   "outputs": [],
   "source": [
    "stock_test = pd.read_pickle('stock')"
   ]
  },
  {
   "cell_type": "code",
   "execution_count": 16,
   "metadata": {
    "scrolled": false
   },
   "outputs": [
    {
     "data": {
      "text/html": [
       "<div>\n",
       "<style scoped>\n",
       "    .dataframe tbody tr th:only-of-type {\n",
       "        vertical-align: middle;\n",
       "    }\n",
       "\n",
       "    .dataframe tbody tr th {\n",
       "        vertical-align: top;\n",
       "    }\n",
       "\n",
       "    .dataframe thead tr th {\n",
       "        text-align: left;\n",
       "    }\n",
       "\n",
       "    .dataframe thead tr:last-of-type th {\n",
       "        text-align: right;\n",
       "    }\n",
       "</style>\n",
       "<table border=\"1\" class=\"dataframe\">\n",
       "  <thead>\n",
       "    <tr>\n",
       "      <th>Attributes</th>\n",
       "      <th colspan=\"3\" halign=\"left\">Adj Close</th>\n",
       "      <th colspan=\"3\" halign=\"left\">Close</th>\n",
       "      <th colspan=\"3\" halign=\"left\">High</th>\n",
       "      <th colspan=\"3\" halign=\"left\">Low</th>\n",
       "      <th colspan=\"3\" halign=\"left\">Open</th>\n",
       "      <th colspan=\"3\" halign=\"left\">Volume</th>\n",
       "    </tr>\n",
       "    <tr>\n",
       "      <th>Symbols</th>\n",
       "      <th>AAPL</th>\n",
       "      <th>FB</th>\n",
       "      <th>GOOGL</th>\n",
       "      <th>AAPL</th>\n",
       "      <th>FB</th>\n",
       "      <th>GOOGL</th>\n",
       "      <th>AAPL</th>\n",
       "      <th>FB</th>\n",
       "      <th>GOOGL</th>\n",
       "      <th>AAPL</th>\n",
       "      <th>FB</th>\n",
       "      <th>GOOGL</th>\n",
       "      <th>AAPL</th>\n",
       "      <th>FB</th>\n",
       "      <th>GOOGL</th>\n",
       "      <th>AAPL</th>\n",
       "      <th>FB</th>\n",
       "      <th>GOOGL</th>\n",
       "    </tr>\n",
       "    <tr>\n",
       "      <th>Date</th>\n",
       "      <th></th>\n",
       "      <th></th>\n",
       "      <th></th>\n",
       "      <th></th>\n",
       "      <th></th>\n",
       "      <th></th>\n",
       "      <th></th>\n",
       "      <th></th>\n",
       "      <th></th>\n",
       "      <th></th>\n",
       "      <th></th>\n",
       "      <th></th>\n",
       "      <th></th>\n",
       "      <th></th>\n",
       "      <th></th>\n",
       "      <th></th>\n",
       "      <th></th>\n",
       "      <th></th>\n",
       "    </tr>\n",
       "  </thead>\n",
       "  <tbody>\n",
       "    <tr>\n",
       "      <td>2018-01-02</td>\n",
       "      <td>True</td>\n",
       "      <td>True</td>\n",
       "      <td>True</td>\n",
       "      <td>True</td>\n",
       "      <td>True</td>\n",
       "      <td>True</td>\n",
       "      <td>True</td>\n",
       "      <td>True</td>\n",
       "      <td>True</td>\n",
       "      <td>True</td>\n",
       "      <td>True</td>\n",
       "      <td>True</td>\n",
       "      <td>True</td>\n",
       "      <td>True</td>\n",
       "      <td>True</td>\n",
       "      <td>True</td>\n",
       "      <td>True</td>\n",
       "      <td>True</td>\n",
       "    </tr>\n",
       "    <tr>\n",
       "      <td>2018-01-03</td>\n",
       "      <td>True</td>\n",
       "      <td>True</td>\n",
       "      <td>True</td>\n",
       "      <td>True</td>\n",
       "      <td>True</td>\n",
       "      <td>True</td>\n",
       "      <td>True</td>\n",
       "      <td>True</td>\n",
       "      <td>True</td>\n",
       "      <td>True</td>\n",
       "      <td>True</td>\n",
       "      <td>True</td>\n",
       "      <td>True</td>\n",
       "      <td>True</td>\n",
       "      <td>True</td>\n",
       "      <td>True</td>\n",
       "      <td>True</td>\n",
       "      <td>True</td>\n",
       "    </tr>\n",
       "    <tr>\n",
       "      <td>2018-01-04</td>\n",
       "      <td>True</td>\n",
       "      <td>True</td>\n",
       "      <td>True</td>\n",
       "      <td>True</td>\n",
       "      <td>True</td>\n",
       "      <td>True</td>\n",
       "      <td>True</td>\n",
       "      <td>True</td>\n",
       "      <td>True</td>\n",
       "      <td>True</td>\n",
       "      <td>True</td>\n",
       "      <td>True</td>\n",
       "      <td>True</td>\n",
       "      <td>True</td>\n",
       "      <td>True</td>\n",
       "      <td>True</td>\n",
       "      <td>True</td>\n",
       "      <td>True</td>\n",
       "    </tr>\n",
       "    <tr>\n",
       "      <td>2018-01-05</td>\n",
       "      <td>True</td>\n",
       "      <td>True</td>\n",
       "      <td>True</td>\n",
       "      <td>True</td>\n",
       "      <td>True</td>\n",
       "      <td>True</td>\n",
       "      <td>True</td>\n",
       "      <td>True</td>\n",
       "      <td>True</td>\n",
       "      <td>True</td>\n",
       "      <td>True</td>\n",
       "      <td>True</td>\n",
       "      <td>True</td>\n",
       "      <td>True</td>\n",
       "      <td>True</td>\n",
       "      <td>True</td>\n",
       "      <td>True</td>\n",
       "      <td>True</td>\n",
       "    </tr>\n",
       "    <tr>\n",
       "      <td>2018-01-08</td>\n",
       "      <td>True</td>\n",
       "      <td>True</td>\n",
       "      <td>True</td>\n",
       "      <td>True</td>\n",
       "      <td>True</td>\n",
       "      <td>True</td>\n",
       "      <td>True</td>\n",
       "      <td>True</td>\n",
       "      <td>True</td>\n",
       "      <td>True</td>\n",
       "      <td>True</td>\n",
       "      <td>True</td>\n",
       "      <td>True</td>\n",
       "      <td>True</td>\n",
       "      <td>True</td>\n",
       "      <td>True</td>\n",
       "      <td>True</td>\n",
       "      <td>True</td>\n",
       "    </tr>\n",
       "    <tr>\n",
       "      <td>...</td>\n",
       "      <td>...</td>\n",
       "      <td>...</td>\n",
       "      <td>...</td>\n",
       "      <td>...</td>\n",
       "      <td>...</td>\n",
       "      <td>...</td>\n",
       "      <td>...</td>\n",
       "      <td>...</td>\n",
       "      <td>...</td>\n",
       "      <td>...</td>\n",
       "      <td>...</td>\n",
       "      <td>...</td>\n",
       "      <td>...</td>\n",
       "      <td>...</td>\n",
       "      <td>...</td>\n",
       "      <td>...</td>\n",
       "      <td>...</td>\n",
       "      <td>...</td>\n",
       "    </tr>\n",
       "    <tr>\n",
       "      <td>2019-04-17</td>\n",
       "      <td>True</td>\n",
       "      <td>True</td>\n",
       "      <td>True</td>\n",
       "      <td>True</td>\n",
       "      <td>True</td>\n",
       "      <td>True</td>\n",
       "      <td>True</td>\n",
       "      <td>True</td>\n",
       "      <td>True</td>\n",
       "      <td>True</td>\n",
       "      <td>True</td>\n",
       "      <td>True</td>\n",
       "      <td>True</td>\n",
       "      <td>True</td>\n",
       "      <td>True</td>\n",
       "      <td>True</td>\n",
       "      <td>True</td>\n",
       "      <td>True</td>\n",
       "    </tr>\n",
       "    <tr>\n",
       "      <td>2019-04-18</td>\n",
       "      <td>True</td>\n",
       "      <td>True</td>\n",
       "      <td>True</td>\n",
       "      <td>True</td>\n",
       "      <td>True</td>\n",
       "      <td>True</td>\n",
       "      <td>True</td>\n",
       "      <td>True</td>\n",
       "      <td>True</td>\n",
       "      <td>True</td>\n",
       "      <td>True</td>\n",
       "      <td>True</td>\n",
       "      <td>True</td>\n",
       "      <td>True</td>\n",
       "      <td>True</td>\n",
       "      <td>True</td>\n",
       "      <td>True</td>\n",
       "      <td>True</td>\n",
       "    </tr>\n",
       "    <tr>\n",
       "      <td>2019-04-22</td>\n",
       "      <td>True</td>\n",
       "      <td>True</td>\n",
       "      <td>True</td>\n",
       "      <td>True</td>\n",
       "      <td>True</td>\n",
       "      <td>True</td>\n",
       "      <td>True</td>\n",
       "      <td>True</td>\n",
       "      <td>True</td>\n",
       "      <td>True</td>\n",
       "      <td>True</td>\n",
       "      <td>True</td>\n",
       "      <td>True</td>\n",
       "      <td>True</td>\n",
       "      <td>True</td>\n",
       "      <td>True</td>\n",
       "      <td>True</td>\n",
       "      <td>True</td>\n",
       "    </tr>\n",
       "    <tr>\n",
       "      <td>2019-04-23</td>\n",
       "      <td>True</td>\n",
       "      <td>True</td>\n",
       "      <td>True</td>\n",
       "      <td>True</td>\n",
       "      <td>True</td>\n",
       "      <td>True</td>\n",
       "      <td>True</td>\n",
       "      <td>True</td>\n",
       "      <td>True</td>\n",
       "      <td>True</td>\n",
       "      <td>True</td>\n",
       "      <td>True</td>\n",
       "      <td>True</td>\n",
       "      <td>True</td>\n",
       "      <td>True</td>\n",
       "      <td>True</td>\n",
       "      <td>True</td>\n",
       "      <td>True</td>\n",
       "    </tr>\n",
       "    <tr>\n",
       "      <td>2019-04-24</td>\n",
       "      <td>True</td>\n",
       "      <td>True</td>\n",
       "      <td>True</td>\n",
       "      <td>True</td>\n",
       "      <td>True</td>\n",
       "      <td>True</td>\n",
       "      <td>True</td>\n",
       "      <td>True</td>\n",
       "      <td>True</td>\n",
       "      <td>True</td>\n",
       "      <td>True</td>\n",
       "      <td>True</td>\n",
       "      <td>True</td>\n",
       "      <td>True</td>\n",
       "      <td>True</td>\n",
       "      <td>True</td>\n",
       "      <td>True</td>\n",
       "      <td>True</td>\n",
       "    </tr>\n",
       "  </tbody>\n",
       "</table>\n",
       "<p>329 rows × 18 columns</p>\n",
       "</div>"
      ],
      "text/plain": [
       "Attributes Adj Close             Close              High               Low  \\\n",
       "Symbols         AAPL    FB GOOGL  AAPL    FB GOOGL  AAPL    FB GOOGL  AAPL   \n",
       "Date                                                                         \n",
       "2018-01-02      True  True  True  True  True  True  True  True  True  True   \n",
       "2018-01-03      True  True  True  True  True  True  True  True  True  True   \n",
       "2018-01-04      True  True  True  True  True  True  True  True  True  True   \n",
       "2018-01-05      True  True  True  True  True  True  True  True  True  True   \n",
       "2018-01-08      True  True  True  True  True  True  True  True  True  True   \n",
       "...              ...   ...   ...   ...   ...   ...   ...   ...   ...   ...   \n",
       "2019-04-17      True  True  True  True  True  True  True  True  True  True   \n",
       "2019-04-18      True  True  True  True  True  True  True  True  True  True   \n",
       "2019-04-22      True  True  True  True  True  True  True  True  True  True   \n",
       "2019-04-23      True  True  True  True  True  True  True  True  True  True   \n",
       "2019-04-24      True  True  True  True  True  True  True  True  True  True   \n",
       "\n",
       "Attributes              Open             Volume              \n",
       "Symbols       FB GOOGL  AAPL    FB GOOGL   AAPL    FB GOOGL  \n",
       "Date                                                         \n",
       "2018-01-02  True  True  True  True  True   True  True  True  \n",
       "2018-01-03  True  True  True  True  True   True  True  True  \n",
       "2018-01-04  True  True  True  True  True   True  True  True  \n",
       "2018-01-05  True  True  True  True  True   True  True  True  \n",
       "2018-01-08  True  True  True  True  True   True  True  True  \n",
       "...          ...   ...   ...   ...   ...    ...   ...   ...  \n",
       "2019-04-17  True  True  True  True  True   True  True  True  \n",
       "2019-04-18  True  True  True  True  True   True  True  True  \n",
       "2019-04-22  True  True  True  True  True   True  True  True  \n",
       "2019-04-23  True  True  True  True  True   True  True  True  \n",
       "2019-04-24  True  True  True  True  True   True  True  True  \n",
       "\n",
       "[329 rows x 18 columns]"
      ]
     },
     "execution_count": 16,
     "metadata": {},
     "output_type": "execute_result"
    }
   ],
   "source": [
    "stock_test == stock"
   ]
  },
  {
   "cell_type": "markdown",
   "metadata": {},
   "source": [
    "## MultiIndex DataFrame"
   ]
  },
  {
   "cell_type": "markdown",
   "metadata": {},
   "source": [
    "You may notice that above dataframe has a 2-level column (`Attributes` & `Symbols`. If we observe the axes of the dataframe, pandas will return the following result:"
   ]
  },
  {
   "cell_type": "code",
   "execution_count": 31,
   "metadata": {
    "scrolled": false
   },
   "outputs": [
    {
     "data": {
      "text/plain": [
       "MultiIndex([('Adj Close',  'AAPL'),\n",
       "            ('Adj Close',    'FB'),\n",
       "            ('Adj Close', 'GOOGL'),\n",
       "            (    'Close',  'AAPL'),\n",
       "            (    'Close',    'FB'),\n",
       "            (    'Close', 'GOOGL'),\n",
       "            (     'High',  'AAPL'),\n",
       "            (     'High',    'FB'),\n",
       "            (     'High', 'GOOGL'),\n",
       "            (      'Low',  'AAPL'),\n",
       "            (      'Low',    'FB'),\n",
       "            (      'Low', 'GOOGL'),\n",
       "            (     'Open',  'AAPL'),\n",
       "            (     'Open',    'FB'),\n",
       "            (     'Open', 'GOOGL'),\n",
       "            (   'Volume',  'AAPL'),\n",
       "            (   'Volume',    'FB'),\n",
       "            (   'Volume', 'GOOGL')],\n",
       "           names=['Attributes', 'Symbols'])"
      ]
     },
     "execution_count": 31,
     "metadata": {},
     "output_type": "execute_result"
    }
   ],
   "source": [
    "stock.head()\n"
   ]
  },
  {
   "cell_type": "markdown",
   "metadata": {},
   "source": [
    "[From pandas documentation:](https://pandas.pydata.org/pandas-docs/stable/user_guide/advanced.html)\n",
    "\n",
    "> *Hierarchical / Multi-level indexing is very exciting as it opens the door to some quite sophisticated data analysis and manipulation, especially for working with higher dimensional data. In essence, it enables you to store and manipulate data with an arbitrary number of dimensions in lower dimensional data structures like Series (1d) and DataFrame (2d).*"
   ]
  },
  {
   "cell_type": "markdown",
   "metadata": {},
   "source": [
    "### MultiIndex Slicer Method"
   ]
  },
  {
   "cell_type": "markdown",
   "metadata": {},
   "source": [
    "Say, we want to specifically observe the stock's closing price. We can easily subset it by a simple dot/bracket notation: "
   ]
  },
  {
   "cell_type": "code",
   "execution_count": null,
   "metadata": {
    "scrolled": false
   },
   "outputs": [],
   "source": [
    "\n",
    "\n"
   ]
  },
  {
   "cell_type": "markdown",
   "metadata": {},
   "source": [
    "But now, let's take a look back to our stock data:"
   ]
  },
  {
   "cell_type": "code",
   "execution_count": null,
   "metadata": {},
   "outputs": [],
   "source": [
    "\n",
    "\n"
   ]
  },
  {
   "cell_type": "markdown",
   "metadata": {},
   "source": [
    "What if, we want to observe all Apple's stock price level? We can do that with the help of `pandas` MultiIndex slicers method, `.xs()`:"
   ]
  },
  {
   "cell_type": "code",
   "execution_count": null,
   "metadata": {},
   "outputs": [],
   "source": [
    "\n",
    "\n"
   ]
  },
  {
   "cell_type": "markdown",
   "metadata": {},
   "source": [
    "## Data Reshaping"
   ]
  },
  {
   "cell_type": "markdown",
   "metadata": {},
   "source": [
    "### `stack()` and `unstack()`\n",
    "\n",
    "`stack()` stack the prescribed level(s) from columns to index and is particularly useful on DataFrames having a multi-level columns. It does so by \"shifting\" the columns to create new levels on its index. \n",
    "\n",
    "This is easier understood when we just see an example. Notice that `stock` has a 2-level column (Attributes and Symbols) and 1-level index (Date):"
   ]
  },
  {
   "cell_type": "code",
   "execution_count": 60,
   "metadata": {},
   "outputs": [
    {
     "data": {
      "text/html": [
       "<div>\n",
       "<style scoped>\n",
       "    .dataframe tbody tr th:only-of-type {\n",
       "        vertical-align: middle;\n",
       "    }\n",
       "\n",
       "    .dataframe tbody tr th {\n",
       "        vertical-align: top;\n",
       "    }\n",
       "\n",
       "    .dataframe thead th {\n",
       "        text-align: right;\n",
       "    }\n",
       "</style>\n",
       "<table border=\"1\" class=\"dataframe\">\n",
       "  <thead>\n",
       "    <tr style=\"text-align: right;\">\n",
       "      <th></th>\n",
       "      <th>Attributes</th>\n",
       "      <th>Adj Close</th>\n",
       "      <th>Close</th>\n",
       "      <th>High</th>\n",
       "      <th>Low</th>\n",
       "      <th>Open</th>\n",
       "      <th>Volume</th>\n",
       "    </tr>\n",
       "    <tr>\n",
       "      <th>Date</th>\n",
       "      <th>Symbols</th>\n",
       "      <th></th>\n",
       "      <th></th>\n",
       "      <th></th>\n",
       "      <th></th>\n",
       "      <th></th>\n",
       "      <th></th>\n",
       "    </tr>\n",
       "  </thead>\n",
       "  <tbody>\n",
       "    <tr>\n",
       "      <td rowspan=\"3\" valign=\"top\">2018-01-02</td>\n",
       "      <td>AAPL</td>\n",
       "      <td>167.701889</td>\n",
       "      <td>172.259995</td>\n",
       "      <td>172.300003</td>\n",
       "      <td>169.259995</td>\n",
       "      <td>170.160004</td>\n",
       "      <td>25555900.0</td>\n",
       "    </tr>\n",
       "    <tr>\n",
       "      <td>FB</td>\n",
       "      <td>181.419998</td>\n",
       "      <td>181.419998</td>\n",
       "      <td>181.580002</td>\n",
       "      <td>177.550003</td>\n",
       "      <td>177.679993</td>\n",
       "      <td>18151900.0</td>\n",
       "    </tr>\n",
       "    <tr>\n",
       "      <td>GOOGL</td>\n",
       "      <td>1073.209961</td>\n",
       "      <td>1073.209961</td>\n",
       "      <td>1075.979980</td>\n",
       "      <td>1053.020020</td>\n",
       "      <td>1053.020020</td>\n",
       "      <td>1588300.0</td>\n",
       "    </tr>\n",
       "    <tr>\n",
       "      <td rowspan=\"2\" valign=\"top\">2018-01-03</td>\n",
       "      <td>AAPL</td>\n",
       "      <td>167.672668</td>\n",
       "      <td>172.229996</td>\n",
       "      <td>174.550003</td>\n",
       "      <td>171.960007</td>\n",
       "      <td>172.529999</td>\n",
       "      <td>29517900.0</td>\n",
       "    </tr>\n",
       "    <tr>\n",
       "      <td>FB</td>\n",
       "      <td>184.669998</td>\n",
       "      <td>184.669998</td>\n",
       "      <td>184.779999</td>\n",
       "      <td>181.330002</td>\n",
       "      <td>181.880005</td>\n",
       "      <td>16886600.0</td>\n",
       "    </tr>\n",
       "    <tr>\n",
       "      <td>...</td>\n",
       "      <td>...</td>\n",
       "      <td>...</td>\n",
       "      <td>...</td>\n",
       "      <td>...</td>\n",
       "      <td>...</td>\n",
       "      <td>...</td>\n",
       "      <td>...</td>\n",
       "    </tr>\n",
       "    <tr>\n",
       "      <td rowspan=\"2\" valign=\"top\">2019-04-23</td>\n",
       "      <td>FB</td>\n",
       "      <td>183.779999</td>\n",
       "      <td>183.779999</td>\n",
       "      <td>184.220001</td>\n",
       "      <td>181.479996</td>\n",
       "      <td>182.740005</td>\n",
       "      <td>19954800.0</td>\n",
       "    </tr>\n",
       "    <tr>\n",
       "      <td>GOOGL</td>\n",
       "      <td>1270.589966</td>\n",
       "      <td>1270.589966</td>\n",
       "      <td>1274.430054</td>\n",
       "      <td>1251.969971</td>\n",
       "      <td>1256.640015</td>\n",
       "      <td>1593400.0</td>\n",
       "    </tr>\n",
       "    <tr>\n",
       "      <td rowspan=\"3\" valign=\"top\">2019-04-24</td>\n",
       "      <td>AAPL</td>\n",
       "      <td>205.584183</td>\n",
       "      <td>207.160004</td>\n",
       "      <td>208.479996</td>\n",
       "      <td>207.050003</td>\n",
       "      <td>207.360001</td>\n",
       "      <td>17540600.0</td>\n",
       "    </tr>\n",
       "    <tr>\n",
       "      <td>FB</td>\n",
       "      <td>182.580002</td>\n",
       "      <td>182.580002</td>\n",
       "      <td>185.139999</td>\n",
       "      <td>181.649994</td>\n",
       "      <td>184.490005</td>\n",
       "      <td>37289900.0</td>\n",
       "    </tr>\n",
       "    <tr>\n",
       "      <td>GOOGL</td>\n",
       "      <td>1260.050049</td>\n",
       "      <td>1260.050049</td>\n",
       "      <td>1274.000000</td>\n",
       "      <td>1259.810059</td>\n",
       "      <td>1270.589966</td>\n",
       "      <td>1169800.0</td>\n",
       "    </tr>\n",
       "  </tbody>\n",
       "</table>\n",
       "<p>987 rows × 6 columns</p>\n",
       "</div>"
      ],
      "text/plain": [
       "Attributes            Adj Close        Close         High          Low  \\\n",
       "Date       Symbols                                                       \n",
       "2018-01-02 AAPL      167.701889   172.259995   172.300003   169.259995   \n",
       "           FB        181.419998   181.419998   181.580002   177.550003   \n",
       "           GOOGL    1073.209961  1073.209961  1075.979980  1053.020020   \n",
       "2018-01-03 AAPL      167.672668   172.229996   174.550003   171.960007   \n",
       "           FB        184.669998   184.669998   184.779999   181.330002   \n",
       "...                         ...          ...          ...          ...   \n",
       "2019-04-23 FB        183.779999   183.779999   184.220001   181.479996   \n",
       "           GOOGL    1270.589966  1270.589966  1274.430054  1251.969971   \n",
       "2019-04-24 AAPL      205.584183   207.160004   208.479996   207.050003   \n",
       "           FB        182.580002   182.580002   185.139999   181.649994   \n",
       "           GOOGL    1260.050049  1260.050049  1274.000000  1259.810059   \n",
       "\n",
       "Attributes                 Open      Volume  \n",
       "Date       Symbols                           \n",
       "2018-01-02 AAPL      170.160004  25555900.0  \n",
       "           FB        177.679993  18151900.0  \n",
       "           GOOGL    1053.020020   1588300.0  \n",
       "2018-01-03 AAPL      172.529999  29517900.0  \n",
       "           FB        181.880005  16886600.0  \n",
       "...                         ...         ...  \n",
       "2019-04-23 FB        182.740005  19954800.0  \n",
       "           GOOGL    1256.640015   1593400.0  \n",
       "2019-04-24 AAPL      207.360001  17540600.0  \n",
       "           FB        184.490005  37289900.0  \n",
       "           GOOGL    1270.589966   1169800.0  \n",
       "\n",
       "[987 rows x 6 columns]"
      ]
     },
     "execution_count": 60,
     "metadata": {},
     "output_type": "execute_result"
    }
   ],
   "source": [
    "stock_long = stock.stack()"
   ]
  },
  {
   "cell_type": "markdown",
   "metadata": {},
   "source": [
    "When we stack the `stock` DataFrame, we shrink the number of levels on its column by one: `stock` now has 1-level column named `Attributes`: "
   ]
  },
  {
   "cell_type": "code",
   "execution_count": null,
   "metadata": {},
   "outputs": [],
   "source": []
  },
  {
   "cell_type": "markdown",
   "metadata": {},
   "source": [
    "`unstack()` does the opposite: it \"shifts\" the levels from index axis onto column axis. Try and create a stack DataFrame, and then apply `unstack` on the new DataFrame to see it return to the original shape:"
   ]
  },
  {
   "cell_type": "code",
   "execution_count": null,
   "metadata": {
    "scrolled": false
   },
   "outputs": [],
   "source": []
  },
  {
   "cell_type": "markdown",
   "metadata": {},
   "source": [
    "**Dive Deeper**:\n",
    "\n",
    "1. Pass `stack()` method to `stock` DataFrame and save it as an object named `stock_long`\n",
    "\n",
    "2. Using `stock_long`, create a new dataframe called `aapl` which stores the stock prices of Apple only"
   ]
  },
  {
   "cell_type": "code",
   "execution_count": 66,
   "metadata": {},
   "outputs": [
    {
     "data": {
      "text/plain": [
       "(329, 6)"
      ]
     },
     "execution_count": 66,
     "metadata": {},
     "output_type": "execute_result"
    }
   ],
   "source": [
    "## Your code here:\n",
    "stock_long = stock.stack()\n",
    "aapl = stock_long.xs('AAPL',level='Symbols',axis=0)\n",
    "\n",
    "aapl.shape"
   ]
  },
  {
   "cell_type": "markdown",
   "metadata": {},
   "source": [
    "### `melt()`"
   ]
  },
  {
   "cell_type": "markdown",
   "metadata": {},
   "source": [
    "Speaking of reshaping a DataFrame from wide format to long, another method that should be in your toolset is `melt()`.\n",
    "\n",
    "Now, let's take a look of our `aapl` dataframe:"
   ]
  },
  {
   "cell_type": "code",
   "execution_count": 188,
   "metadata": {
    "scrolled": true
   },
   "outputs": [
    {
     "data": {
      "text/plain": [
       "(329, 6)"
      ]
     },
     "execution_count": 188,
     "metadata": {},
     "output_type": "execute_result"
    }
   ],
   "source": [
    "aapl.shape"
   ]
  },
  {
   "cell_type": "markdown",
   "metadata": {},
   "source": [
    "The DataFrame above is wide: it has 329 rows and 6 columns. The `melt()` function gathers all the columns into one and store the value corresponding to each column such that the resulting DataFrame has 329 * 6 = 1,974 rows, along with the identifier and values columns:"
   ]
  },
  {
   "cell_type": "code",
   "execution_count": 68,
   "metadata": {},
   "outputs": [
    {
     "data": {
      "text/plain": [
       "(1974, 2)"
      ]
     },
     "execution_count": 68,
     "metadata": {},
     "output_type": "execute_result"
    }
   ],
   "source": [
    "aapl_melted = aapl.melt()\n",
    "aapl_melted.head()\n",
    "\n",
    "aapl_melted.shape\n"
   ]
  },
  {
   "cell_type": "code",
   "execution_count": null,
   "metadata": {},
   "outputs": [],
   "source": [
    "\n",
    "\n"
   ]
  },
  {
   "cell_type": "markdown",
   "metadata": {},
   "source": [
    "We can optionally specify one or more columns to be identifier variables (`id_vars`), which treat all other columns as value variables (`value_vars`):"
   ]
  },
  {
   "cell_type": "code",
   "execution_count": 75,
   "metadata": {
    "scrolled": false
   },
   "outputs": [
    {
     "data": {
      "text/html": [
       "<div>\n",
       "<style scoped>\n",
       "    .dataframe tbody tr th:only-of-type {\n",
       "        vertical-align: middle;\n",
       "    }\n",
       "\n",
       "    .dataframe tbody tr th {\n",
       "        vertical-align: top;\n",
       "    }\n",
       "\n",
       "    .dataframe thead th {\n",
       "        text-align: right;\n",
       "    }\n",
       "</style>\n",
       "<table border=\"1\" class=\"dataframe\">\n",
       "  <thead>\n",
       "    <tr style=\"text-align: right;\">\n",
       "      <th></th>\n",
       "      <th>Date</th>\n",
       "      <th>Attributes</th>\n",
       "      <th>value</th>\n",
       "    </tr>\n",
       "  </thead>\n",
       "  <tbody>\n",
       "    <tr>\n",
       "      <td>0</td>\n",
       "      <td>2018-01-02</td>\n",
       "      <td>Open</td>\n",
       "      <td>170.160004</td>\n",
       "    </tr>\n",
       "    <tr>\n",
       "      <td>1</td>\n",
       "      <td>2018-01-03</td>\n",
       "      <td>Open</td>\n",
       "      <td>172.529999</td>\n",
       "    </tr>\n",
       "    <tr>\n",
       "      <td>2</td>\n",
       "      <td>2018-01-04</td>\n",
       "      <td>Open</td>\n",
       "      <td>172.539993</td>\n",
       "    </tr>\n",
       "    <tr>\n",
       "      <td>3</td>\n",
       "      <td>2018-01-05</td>\n",
       "      <td>Open</td>\n",
       "      <td>173.440002</td>\n",
       "    </tr>\n",
       "    <tr>\n",
       "      <td>4</td>\n",
       "      <td>2018-01-08</td>\n",
       "      <td>Open</td>\n",
       "      <td>174.350006</td>\n",
       "    </tr>\n",
       "    <tr>\n",
       "      <td>...</td>\n",
       "      <td>...</td>\n",
       "      <td>...</td>\n",
       "      <td>...</td>\n",
       "    </tr>\n",
       "    <tr>\n",
       "      <td>653</td>\n",
       "      <td>2019-04-17</td>\n",
       "      <td>Close</td>\n",
       "      <td>203.130005</td>\n",
       "    </tr>\n",
       "    <tr>\n",
       "      <td>654</td>\n",
       "      <td>2019-04-18</td>\n",
       "      <td>Close</td>\n",
       "      <td>203.860001</td>\n",
       "    </tr>\n",
       "    <tr>\n",
       "      <td>655</td>\n",
       "      <td>2019-04-22</td>\n",
       "      <td>Close</td>\n",
       "      <td>204.529999</td>\n",
       "    </tr>\n",
       "    <tr>\n",
       "      <td>656</td>\n",
       "      <td>2019-04-23</td>\n",
       "      <td>Close</td>\n",
       "      <td>207.479996</td>\n",
       "    </tr>\n",
       "    <tr>\n",
       "      <td>657</td>\n",
       "      <td>2019-04-24</td>\n",
       "      <td>Close</td>\n",
       "      <td>207.160004</td>\n",
       "    </tr>\n",
       "  </tbody>\n",
       "</table>\n",
       "<p>658 rows × 3 columns</p>\n",
       "</div>"
      ],
      "text/plain": [
       "          Date Attributes       value\n",
       "0   2018-01-02       Open  170.160004\n",
       "1   2018-01-03       Open  172.529999\n",
       "2   2018-01-04       Open  172.539993\n",
       "3   2018-01-05       Open  173.440002\n",
       "4   2018-01-08       Open  174.350006\n",
       "..         ...        ...         ...\n",
       "653 2019-04-17      Close  203.130005\n",
       "654 2019-04-18      Close  203.860001\n",
       "655 2019-04-22      Close  204.529999\n",
       "656 2019-04-23      Close  207.479996\n",
       "657 2019-04-24      Close  207.160004\n",
       "\n",
       "[658 rows x 3 columns]"
      ]
     },
     "execution_count": 75,
     "metadata": {},
     "output_type": "execute_result"
    }
   ],
   "source": [
    "aapl.reset_index().melt(id_vars='Date',\n",
    "                       value_vars=['Open','Close'])\n",
    "\n"
   ]
  },
  {
   "cell_type": "markdown",
   "metadata": {},
   "source": [
    "**Why should we reshape our data?**\n",
    "\n",
    "It is common that data format extracted from a database does not meet the formatting you need for further purpose of analysis. In EDA, you might need to reshape your data as part of your data preparation for a visualization.\n",
    "\n",
    "pandas have several functions to reshape your data:\n",
    "- `stack()` & `unstack()`\n",
    "- `melt()` & `pivot()`\n",
    "- `.T` or `transpose()`"
   ]
  },
  {
   "cell_type": "markdown",
   "metadata": {},
   "source": [
    "Example on how reshaping data is helpful on visualization:"
   ]
  },
  {
   "cell_type": "code",
   "execution_count": 86,
   "metadata": {
    "scrolled": true
   },
   "outputs": [
    {
     "data": {
      "text/plain": [
       "<matplotlib.axes._subplots.AxesSubplot at 0x23543989d30>"
      ]
     },
     "execution_count": 86,
     "metadata": {},
     "output_type": "execute_result"
    },
    {
     "data": {
      "image/png": "[encoded data removed]",
      "text/plain": [
       "<Figure size 432x288 with 1 Axes>"
      ]
     },
     "metadata": {
      "needs_background": "light"
     },
     "output_type": "display_data"
    }
   ],
   "source": [
    "stock_long['Close'].unstack().plot()"
   ]
  },
  {
   "cell_type": "markdown",
   "metadata": {},
   "source": [
    "### Dive deeper\n",
    "\n",
    "Use `la-traffic.csv` to answer the following questions\n",
    "\n",
    "1. Create a plot which shows the **total daily visitors** growth from all devices"
   ]
  },
  {
   "cell_type": "code",
   "execution_count": 107,
   "metadata": {},
   "outputs": [
    {
     "data": {
      "text/plain": [
       "<matplotlib.axes._subplots.AxesSubplot at 0x2354972ca90>"
      ]
     },
     "execution_count": 107,
     "metadata": {},
     "output_type": "execute_result"
    },
    {
     "data": {
      "image/png": "[encoded data removed]",
      "text/plain": [
       "<Figure size 432x288 with 1 Axes>"
      ]
     },
     "metadata": {
      "needs_background": "light"
     },
     "output_type": "display_data"
    },
    {
     "data": {
      "image/png": "[encoded data removed]",
      "text/plain": [
       "<Figure size 432x288 with 1 Axes>"
      ]
     },
     "metadata": {
      "needs_background": "light"
     },
     "output_type": "display_data"
    }
   ],
   "source": [
    "## Your code here\n",
    "data_traffic = pd.read_csv('../la-traffic.csv')\n",
    "pd.crosstab(index=data_traffic['Date'],\n",
    "           columns=data_traffic['Device Category'],\n",
    "           values=data_traffic['Total Visitors'],\n",
    "           aggfunc='sum').plot()\n",
    "pd.pivot_table(data=data_traffic,\n",
    "              index='Date',\n",
    "              columns='Device Category',\n",
    "              values='Total Visitors',\n",
    "              aggfunc='sum').plot.bar()"
   ]
  },
  {
   "cell_type": "markdown",
   "metadata": {},
   "source": []
  },
  {
   "cell_type": "markdown",
   "metadata": {},
   "source": [
    "# Study case: Online Retail"
   ]
  },
  {
   "cell_type": "markdown",
   "metadata": {},
   "source": [
    "## Data Preparation"
   ]
  },
  {
   "cell_type": "markdown",
   "metadata": {},
   "source": [
    "Before we start to visualize our data, it is always necessary to inspect and prepare our data in the first place.\n",
    "\n",
    "The data we're going to use in this section is `online_retail.csv`.  This dataset consist of transaction data of an online retail shops provided from UCI Machine Learning [repository](https://archive.ics.uci.edu/ml/datasets/online+retail). All the transactions occurring between end of 2010 to end of 2011 for a UK-based and registered non-store online retail.\n",
    "\n",
    " The following is the data glossary provided for this dataset:\n",
    "- `InvoiceNo`: Invoice number. Nominal, a 6-digit integral number uniquely assigned to each transaction. *If this code starts with letter 'c', it indicates a **cancellation**.*  \n",
    "- `StockCode`: Product (item) code. Nominal, a 5-digit integral number uniquely assigned to each distinct product. \n",
    "- `Description`: Product (item) name. Nominal.   \n",
    "- `Quantity`: The quantities of each product (item) per transaction. Numeric.\t  \n",
    "- `InvoiceDate`: Invice Date and time. Numeric, the day and time when each transaction was generated.   \n",
    "- `UnitPrice`: Unit price. Numeric, Product price per unit in sterling.   \n",
    "- `CustomerID`: Customer number. Nominal, a 5-digit integral number uniquely assigned to each customer.   \n",
    "- `Country`: Country name. Nominal, the name of the country where each customer resides.  \n"
   ]
  },
  {
   "cell_type": "code",
   "execution_count": 5,
   "metadata": {
    "scrolled": false
   },
   "outputs": [
    {
     "data": {
      "text/html": [
       "<div>\n",
       "<style scoped>\n",
       "    .dataframe tbody tr th:only-of-type {\n",
       "        vertical-align: middle;\n",
       "    }\n",
       "\n",
       "    .dataframe tbody tr th {\n",
       "        vertical-align: top;\n",
       "    }\n",
       "\n",
       "    .dataframe thead th {\n",
       "        text-align: right;\n",
       "    }\n",
       "</style>\n",
       "<table border=\"1\" class=\"dataframe\">\n",
       "  <thead>\n",
       "    <tr style=\"text-align: right;\">\n",
       "      <th></th>\n",
       "      <th>InvoiceNo</th>\n",
       "      <th>StockCode</th>\n",
       "      <th>Description</th>\n",
       "      <th>Quantity</th>\n",
       "      <th>InvoiceDate</th>\n",
       "      <th>UnitPrice</th>\n",
       "      <th>CustomerID</th>\n",
       "      <th>Country</th>\n",
       "    </tr>\n",
       "  </thead>\n",
       "  <tbody>\n",
       "    <tr>\n",
       "      <th>0</th>\n",
       "      <td>536365</td>\n",
       "      <td>85123A</td>\n",
       "      <td>WHITE HANGING HEART T-LIGHT HOLDER</td>\n",
       "      <td>6</td>\n",
       "      <td>12/1/10 8:26</td>\n",
       "      <td>2.55</td>\n",
       "      <td>17850.0</td>\n",
       "      <td>United Kingdom</td>\n",
       "    </tr>\n",
       "    <tr>\n",
       "      <th>1</th>\n",
       "      <td>536365</td>\n",
       "      <td>71053</td>\n",
       "      <td>WHITE METAL LANTERN</td>\n",
       "      <td>6</td>\n",
       "      <td>12/1/10 8:26</td>\n",
       "      <td>3.39</td>\n",
       "      <td>17850.0</td>\n",
       "      <td>United Kingdom</td>\n",
       "    </tr>\n",
       "    <tr>\n",
       "      <th>2</th>\n",
       "      <td>536365</td>\n",
       "      <td>84406B</td>\n",
       "      <td>CREAM CUPID HEARTS COAT HANGER</td>\n",
       "      <td>8</td>\n",
       "      <td>12/1/10 8:26</td>\n",
       "      <td>2.75</td>\n",
       "      <td>17850.0</td>\n",
       "      <td>United Kingdom</td>\n",
       "    </tr>\n",
       "    <tr>\n",
       "      <th>3</th>\n",
       "      <td>536365</td>\n",
       "      <td>84029G</td>\n",
       "      <td>KNITTED UNION FLAG HOT WATER BOTTLE</td>\n",
       "      <td>6</td>\n",
       "      <td>12/1/10 8:26</td>\n",
       "      <td>3.39</td>\n",
       "      <td>17850.0</td>\n",
       "      <td>United Kingdom</td>\n",
       "    </tr>\n",
       "    <tr>\n",
       "      <th>4</th>\n",
       "      <td>536365</td>\n",
       "      <td>84029E</td>\n",
       "      <td>RED WOOLLY HOTTIE WHITE HEART.</td>\n",
       "      <td>6</td>\n",
       "      <td>12/1/10 8:26</td>\n",
       "      <td>3.39</td>\n",
       "      <td>17850.0</td>\n",
       "      <td>United Kingdom</td>\n",
       "    </tr>\n",
       "  </tbody>\n",
       "</table>\n",
       "</div>"
      ],
      "text/plain": [
       "  InvoiceNo StockCode                          Description  Quantity  \\\n",
       "0    536365    85123A   WHITE HANGING HEART T-LIGHT HOLDER         6   \n",
       "1    536365     71053                  WHITE METAL LANTERN         6   \n",
       "2    536365    84406B       CREAM CUPID HEARTS COAT HANGER         8   \n",
       "3    536365    84029G  KNITTED UNION FLAG HOT WATER BOTTLE         6   \n",
       "4    536365    84029E       RED WOOLLY HOTTIE WHITE HEART.         6   \n",
       "\n",
       "    InvoiceDate  UnitPrice  CustomerID         Country  \n",
       "0  12/1/10 8:26       2.55     17850.0  United Kingdom  \n",
       "1  12/1/10 8:26       3.39     17850.0  United Kingdom  \n",
       "2  12/1/10 8:26       2.75     17850.0  United Kingdom  \n",
       "3  12/1/10 8:26       3.39     17850.0  United Kingdom  \n",
       "4  12/1/10 8:26       3.39     17850.0  United Kingdom  "
      ]
     },
     "execution_count": 5,
     "metadata": {},
     "output_type": "execute_result"
    }
   ],
   "source": [
    "retail = pd.read_csv(\"data_input/online_retail.csv\")\n",
    "retail.head()"
   ]
  },
  {
   "cell_type": "markdown",
   "metadata": {},
   "source": [
    "**Discussion**:\n",
    "\n",
    "1. Recall what you've learned about data inspection in the previous courses. Do all of our data have stored in the correct datatypes?\n",
    "\n",
    "2. Notice how `InvoiceNo` consist of a cancelled invoice. Do you think it's supposed to be part of our analysis?\n",
    "\n",
    "3. Create a new column, `TotalPrice` which stores the total cost of the order!\n",
    "\n",
    "*Tip*: To check which InvoiceNo starts with letter '*c*', create a **conditional subsetting** and combine it with `.str.contains()` method "
   ]
  },
  {
   "cell_type": "code",
   "execution_count": 6,
   "metadata": {},
   "outputs": [],
   "source": [
    "# Your Code Here\n",
    "\n"
   ]
  },
  {
   "cell_type": "markdown",
   "metadata": {},
   "source": [
    "If you are able to answer the previous questions without any trouble, good job! Remember, always be skeptical when you receive a new data. Understand the structure thoroughly to avoid any misinterpretation from your data.\n",
    "\n",
    "In the following cell, we adjust our datatypes an remove all Invoice containing 'c' character to remove all cancelled transactions from our analysis:"
   ]
  },
  {
   "cell_type": "code",
   "execution_count": null,
   "metadata": {},
   "outputs": [],
   "source": [
    "\n",
    "\n"
   ]
  },
  {
   "cell_type": "markdown",
   "metadata": {},
   "source": [
    "##  Frequency & Aggregation Tables"
   ]
  },
  {
   "cell_type": "markdown",
   "metadata": {},
   "source": [
    "Aggregation is a method of summarizing a group of values in order to return a single value.\n",
    "\n",
    "So far, we have explored several pandas aggregational toolkit, such as:\n",
    "- `pd.crosstab()`\n",
    "- `pd.pivot_table()`\n",
    "\n",
    "In this chapter, we'll explore another pandas' aggregating tools:\n",
    "- `groupby` aggregation."
   ]
  },
  {
   "cell_type": "markdown",
   "metadata": {},
   "source": [
    "**Discussion:**<br>\n",
    "(`pivot_table` & `pd.crosstab` equivalency)\n",
    "\n",
    "The `pivot_table` method and the `crosstab` function can both produce the exact same results with the same shape. They both share the parameters; `index`, `columns`, `values`, and `aggfunc`. \n",
    "\n",
    "The major difference on the surface is that `crosstab` is a function and not a DataFrame method. This forces you to use columns as Series and not string names for the parameters.\n",
    "\n",
    "1. Suppose you want to compare the number of total transactions over Weekdays of each quarter period. Create a `pivot_table` that solve the problem!\n",
    "\n",
    "\n",
    "2. Try to reproduce the same result by using `crosstab`\n",
    "\n",
    "\n",
    "3. What if, instead of compare the total transactions, you want to compare the total revenue from the same period? Use both `pivot_table` and `crosstab` as the solution. Discuss with your friend, which method is more relevant in this case?"
   ]
  },
  {
   "cell_type": "code",
   "execution_count": 7,
   "metadata": {},
   "outputs": [],
   "source": [
    "## Your code here\n",
    "\n",
    "\n"
   ]
  },
  {
   "cell_type": "markdown",
   "metadata": {},
   "source": [
    "### Using Group By\n",
    "\n",
    "Another equally important technique is the group by operation. Analysts having some experience with SQL or other data analysis toolsets will find the group by operation a familiar strategy in many analysis-heavy workflow.\n",
    "\n",
    "Let's answer the previous business questions with `groupby` method:"
   ]
  },
  {
   "cell_type": "code",
   "execution_count": null,
   "metadata": {},
   "outputs": [],
   "source": []
  },
  {
   "cell_type": "markdown",
   "metadata": {},
   "source": [
    "Notice how by using group by you are limited to calculate every numeric column with function as you provide it. You can make use of `agg` to combine it with our `groupby` function.\n",
    "\n",
    "In the next cell, not only observing revenue of our Sales, we also wont to figure out the number of unique customers that purchasing our products in each period:"
   ]
  },
  {
   "cell_type": "code",
   "execution_count": null,
   "metadata": {},
   "outputs": [],
   "source": []
  },
  {
   "cell_type": "markdown",
   "metadata": {},
   "source": [
    "**Notes on `crosstab`, `pivot_table` and `groupby`:**\n",
    "- `crosstab` was built for counting\n",
    "- Relative frequency / proportion table -- the unique functionality with `crosstab`\n",
    "- use `pivot_table` when comparing groups\n",
    "- the result of a `groupby` is going to be in tidy form, which lends itself to easier subsequent analysis, but isn’t as interpretable."
   ]
  },
  {
   "cell_type": "markdown",
   "metadata": {},
   "source": [
    "**Dive Deeper:**\n",
    "\n",
    "Say we are interested in the number sales generated by our business. To do that it is easier to have a data frame that holds unique invoice information per row. Knowing that each invoice repetition would have the same `CustomerID`, `Country` and `InvoiceDate`, we can use the first data occurrence for each invoice.\n",
    "\n",
    "Now try to complete the following faded example and see what kind of data frame it is creating:\n",
    "\n",
    "```\n",
    "invoice = retail.groupby('InvoiceNo').agg({\n",
    "    'StockCode': lambda x: x.unique().size,\n",
    "    'TotalPrice': '___',\n",
    "    'CustomerID': '___',\n",
    "    'Country': 'first',\n",
    "    'InvoiceDate': '___'\n",
    "})\n",
    "```"
   ]
  },
  {
   "cell_type": "code",
   "execution_count": 8,
   "metadata": {
    "scrolled": false
   },
   "outputs": [],
   "source": [
    "## Your code here:\n",
    "\n",
    "\n",
    "\n",
    "# invoice.to_pickle('data_cache/invoice')"
   ]
  },
  {
   "cell_type": "markdown",
   "metadata": {},
   "source": [
    "## Visualization"
   ]
  },
  {
   "cell_type": "markdown",
   "metadata": {},
   "source": [
    "### Visualizing Comparison"
   ]
  },
  {
   "cell_type": "markdown",
   "metadata": {},
   "source": [
    "The best way to demonstrate the efficiency gains of `DataFrame.plot()` is to see it in action. We will call `.plot()` directly on our `DataFrame` - `pandas` take care of the  matplotlib code that, [by matplotlib's own admission](https://matplotlib.org/tutorials/introductory/usage.html#sphx-glr-tutorials-introductory-usage-py), _can be daunting to many new users_.\n",
    "\n",
    "In the following cell, we calculate our revenue based on customer's Country, and directly pass `.plot(kind='bar')` afterwards to create a bar graph. A bar graph makes it easy to compare sets of data between different groups at a glance"
   ]
  },
  {
   "cell_type": "code",
   "execution_count": null,
   "metadata": {
    "scrolled": false
   },
   "outputs": [],
   "source": []
  },
  {
   "cell_type": "markdown",
   "metadata": {},
   "source": [
    "The bar graph above shows that mostly our revenue came from United Kingdom. The fact that the data's actually generated from a UK-based online retail doesn't validate our action to generally compare our sales from every countries in the `Country` list.\n",
    "\n",
    "It will be wiser for us to specifically compare, for example, our international market, by excluding United Kingdom from our observations:"
   ]
  },
  {
   "cell_type": "code",
   "execution_count": null,
   "metadata": {},
   "outputs": [],
   "source": []
  },
  {
   "cell_type": "markdown",
   "metadata": {},
   "source": [
    "From above, we can get clearer insight; there are several countries that could possibly be our biggest markets outside UK. \n",
    "\n",
    "We can also improve our plot efficiency by sorting the `Total Price` values in advance, so then the bars from our plot will be arranged based on the value, rather than the country's alphabetical order. Compare the barplot we create below to the previous one, which one gives you better information?"
   ]
  },
  {
   "cell_type": "code",
   "execution_count": null,
   "metadata": {
    "scrolled": false
   },
   "outputs": [],
   "source": [
    "\n",
    "\n"
   ]
  },
  {
   "cell_type": "markdown",
   "metadata": {},
   "source": [
    "**Discussion:**\n",
    "\n",
    "One disadvantage of vertical bar graphs is that they don't leave much room at the bottom of the chart if long labels are required. In pandas, we can also create horizontal bar graph, with `hbar` plot type. Try to create one to show ten countries with highest sales *in average*. \n",
    "\n",
    "Discuss the result with your classmate, what are the differences between comparing the Sales with *sum* and *mean*?"
   ]
  },
  {
   "cell_type": "code",
   "execution_count": 66,
   "metadata": {},
   "outputs": [],
   "source": [
    "## Your code here\n",
    "\n",
    "\n"
   ]
  },
  {
   "cell_type": "markdown",
   "metadata": {},
   "source": [
    "#### Mulitple Categories Bar"
   ]
  },
  {
   "cell_type": "markdown",
   "metadata": {},
   "source": [
    "Bar charts are one of the most commonly used types of graph because they are simple to create and very easy to interpret. They are also a flexible chart type and there are several variations of the standard bar chart including horizontal bar charts, grouped or component charts, and stacked bar charts. \n",
    "\n",
    "Grouped bar charts are a way of showing information about different sub-groups of the main categories. \n",
    "\n",
    "Now back to our international market sales data:"
   ]
  },
  {
   "cell_type": "code",
   "execution_count": null,
   "metadata": {},
   "outputs": [],
   "source": []
  },
  {
   "cell_type": "markdown",
   "metadata": {},
   "source": [
    "We can see that the data we have was the historical transactions between December 2010 to June 2011. Each month, every country may shows different sales behaviour."
   ]
  },
  {
   "cell_type": "markdown",
   "metadata": {},
   "source": [
    "**Discussion**:\n",
    "\n",
    "1. Using `groupby`, try to create a DataFrame which stores the information of five countries with the highest monetary within each month!\n",
    "\n",
    "*Tip*:\n",
    "- You will need to group the data twice, and will also need the help of `sort_values` to complete this task!"
   ]
  },
  {
   "cell_type": "code",
   "execution_count": 9,
   "metadata": {
    "scrolled": false
   },
   "outputs": [],
   "source": [
    "# Your code here\n",
    "\n"
   ]
  },
  {
   "cell_type": "markdown",
   "metadata": {},
   "source": [
    "The more convenient way to compare the sales performance within each month, and each countries is to display it as bar charts. When visualizing multiple groups with bar charts, there are two bar kinds that we can explore; **grouped bar** and **stacked bar**."
   ]
  },
  {
   "cell_type": "markdown",
   "metadata": {},
   "source": [
    "By default, when we pass `plot(kind='bar')` to a multiple groups data, `matplotlib` will return a broup bar chart:"
   ]
  },
  {
   "cell_type": "code",
   "execution_count": null,
   "metadata": {
    "scrolled": true
   },
   "outputs": [],
   "source": [
    "\n",
    "\n"
   ]
  },
  {
   "cell_type": "markdown",
   "metadata": {},
   "source": [
    "**Knowledge Check**:\n",
    "\n",
    "1. List the informations you get by observing the plot above!\n",
    "\n",
    "2. Create a grouped/stacked bar plot from `ItemBought` variable. Discuss with your friend, what are the insights that you found from the plot."
   ]
  },
  {
   "cell_type": "code",
   "execution_count": 201,
   "metadata": {},
   "outputs": [],
   "source": [
    "# Your code below\n",
    "\n"
   ]
  },
  {
   "cell_type": "markdown",
   "metadata": {},
   "source": [
    "### Visualizing Distribution"
   ]
  },
  {
   "cell_type": "markdown",
   "metadata": {},
   "source": [
    "#### Histogram\n",
    "\n",
    "Some of you might have using histogram to visualize a single variable data distribution, but do you think there is any difference between Histogram and Bar charts?\n",
    "\n",
    "Histogram is a chart representing a frequency distribution; heights of the bars represent observed frequencies. In other words a histogram is a graphical display of data using bars of different heights. Usually, there is no space between adjacent Bars.\n",
    "\n",
    "Here is the main difference between them. With bar charts, each column represents a group defined by a categorical variable; and with histograms, each column represents a group defined by a quantitative variable."
   ]
  },
  {
   "cell_type": "code",
   "execution_count": null,
   "metadata": {},
   "outputs": [],
   "source": [
    "\n",
    "\n"
   ]
  },
  {
   "cell_type": "code",
   "execution_count": null,
   "metadata": {
    "scrolled": true
   },
   "outputs": [],
   "source": [
    "\n",
    "\n"
   ]
  },
  {
   "cell_type": "markdown",
   "metadata": {},
   "source": [
    "#### Boxplot"
   ]
  },
  {
   "cell_type": "markdown",
   "metadata": {},
   "source": [
    "Another common way to statistically inspecting a data is using box plot, a handy visualization tools that provide a five number summary for your data. It contains several components:\n",
    "- First quantile  \n",
    "- Median  \n",
    "- Third quantile  \n",
    "- Inner and outer fence  \n",
    "- Outliers  \n",
    "\n",
    "To see how we can utilize it in action, we shall use `pandas` built-in `boxplot()` function:"
   ]
  },
  {
   "cell_type": "code",
   "execution_count": null,
   "metadata": {
    "scrolled": false
   },
   "outputs": [],
   "source": [
    "\n",
    "\n"
   ]
  },
  {
   "cell_type": "markdown",
   "metadata": {},
   "source": [
    "Providing the column name for `column` as the y-axis and `by` as the x-axis will provide us a very simple, yet useful box plot that shows different distribution shape for each monthly revenue.\n",
    "\n",
    "**Discussion:**\n",
    "\n",
    "1. How do you interpret the above boxplot? Which month is considered to be a \"bad\" month, and which one seems to indicates a good one?\n",
    "\n",
    "2. Identifying outliers can also help us accelerate our exploratory process. For example, let's take March of 2011, that shows a rather normal distribution of revenue for all countries. We see that the whisker are located around ~7000, means if we subset our dataset we could identify which countries are there. Now try to identify the outliers from the latest month: June 2011, how would you subset it and what countries are there?"
   ]
  },
  {
   "cell_type": "code",
   "execution_count": 64,
   "metadata": {},
   "outputs": [],
   "source": [
    "## Your answer here\n",
    "\n",
    "\n"
   ]
  },
  {
   "cell_type": "markdown",
   "metadata": {},
   "source": [
    "### Visualizing trend on time series data"
   ]
  },
  {
   "cell_type": "markdown",
   "metadata": {},
   "source": [
    "Now let's talk more on building line plot for trend analysis. Notice how using `plot()` method earlier is designed to be versatile in output. Let's try out the line plot by identifying the 5 outliers countries that has a slightly higher sales than others on march:"
   ]
  },
  {
   "cell_type": "code",
   "execution_count": null,
   "metadata": {},
   "outputs": [],
   "source": [
    "\n"
   ]
  },
  {
   "cell_type": "markdown",
   "metadata": {},
   "source": [
    "A full reference to [the official documentation](https://pandas.pydata.org/pandas-docs/stable/reference/api/pandas.DataFrame.plot.html) on this method would be outside the scope of this coursebook, but is worth a read. \n",
    "\n",
    "The docs pointed out, among other things, what parameters are accepted by the method. We will see the following entry under **Parameters**:\n",
    "\n",
    "- **subplots** : _boolean, default False_\n",
    "    - Make separate subplots for each columns\n",
    "    \n",
    "By passing in the `subplots` logical parameter as True, each of the countries will be rendered in different plots:"
   ]
  },
  {
   "cell_type": "code",
   "execution_count": null,
   "metadata": {
    "scrolled": true
   },
   "outputs": [],
   "source": [
    "\n"
   ]
  },
  {
   "cell_type": "markdown",
   "metadata": {},
   "source": [
    "**Dive Deeper:**\n",
    "\n",
    "Using our `country_monthly`, try to extract the top 3 countries with most sales in June 2011 and the 3 countries with the least sales within the same month. Create a line plot for the 6 of them and try to analyze the trend of each countries!"
   ]
  },
  {
   "cell_type": "code",
   "execution_count": 81,
   "metadata": {},
   "outputs": [],
   "source": [
    "\n",
    "\n",
    "\n",
    "## Your Code Here"
   ]
  },
  {
   "cell_type": "markdown",
   "metadata": {},
   "source": [
    "We can [customize our plots with style sheets](https://matplotlib.org/users/style_sheets.html) but a handy reference is within reach. You can substitute 'default' for any one of the styles available and re-run the plotting code to see the styles being applied."
   ]
  },
  {
   "cell_type": "code",
   "execution_count": 4,
   "metadata": {
    "scrolled": false
   },
   "outputs": [
    {
     "name": "stdout",
     "output_type": "stream",
     "text": [
      "['seaborn-dark', 'seaborn-darkgrid', 'seaborn-ticks', 'fivethirtyeight', 'seaborn-whitegrid', 'classic', '_classic_test', 'fast', 'seaborn-talk', 'seaborn-dark-palette', 'seaborn-bright', 'seaborn-pastel', 'grayscale', 'seaborn-notebook', 'ggplot', 'seaborn-colorblind', 'seaborn-muted', 'seaborn', 'Solarize_Light2', 'seaborn-paper', 'bmh', 'tableau-colorblind10', 'seaborn-white', 'dark_background', 'seaborn-poster', 'seaborn-deep']\n"
     ]
    }
   ],
   "source": [
    "print(plt.style.available)\n",
    "plt.style.use('default')"
   ]
  },
  {
   "cell_type": "markdown",
   "metadata": {},
   "source": [
    "Since we're unable to cover the entirety of `matplotlib`, I would recommend the official documentation for anyone wishing to gain a deeper level of familiarity with plotting using `pandas`'s implementation of `matplotlib`."
   ]
  }
 ],
 "metadata": {
  "kernelspec": {
   "display_name": "data-analytics",
   "language": "python",
   "name": "data-analytics"
  },
  "language_info": {
   "codemirror_mode": {
    "name": "ipython",
    "version": 3
   },
   "file_extension": ".py",
   "mimetype": "text/x-python",
   "name": "python",
   "nbconvert_exporter": "python",
   "pygments_lexer": "ipython3",
   "version": "3.7.1"
  },
  "latex_envs": {
   "LaTeX_envs_menu_present": true,
   "autoclose": false,
   "autocomplete": true,
   "bibliofile": "biblio.bib",
   "cite_by": "apalike",
   "current_citInitial": 1,
   "eqLabelWithNumbers": true,
   "eqNumInitial": 1,
   "hotkeys": {
    "equation": "Ctrl-E",
    "itemize": "Ctrl-I"
   },
   "labels_anchors": false,
   "latex_user_defs": false,
   "report_style_numbering": false,
   "user_envs_cfg": false
  },
  "toc": {
   "base_numbering": 1,
   "nav_menu": {},
   "number_sections": true,
   "sideBar": true,
   "skip_h1_title": false,
   "title_cell": "Table of Contents",
   "title_sidebar": "Contents",
   "toc_cell": false,
   "toc_position": {},
   "toc_section_display": true,
   "toc_window_display": false
  }
 },
 "nbformat": 4,
 "nbformat_minor": 2
}
