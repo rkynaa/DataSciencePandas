{
 "cells": [
  {
   "cell_type": "markdown",
   "metadata": {},
   "source": [
    "# Python for Data Analytics\n",
    "\n",
    "## Day 1\n",
    "\n",
    "###  Enter code below:\n",
    "\n",
    "Below is an example for code set"
   ]
  },
  {
   "cell_type": "code",
   "execution_count": 3,
   "metadata": {},
   "outputs": [
    {
     "data": {
      "text/plain": [
       "6"
      ]
     },
     "execution_count": 3,
     "metadata": {},
     "output_type": "execute_result"
    }
   ],
   "source": [
    "3+3"
   ]
  },
  {
   "cell_type": "markdown",
   "metadata": {},
   "source": [
    "### Enter markdown below:\n",
    "\n",
    "Below is an example for markdown cell:"
   ]
  },
  {
   "cell_type": "markdown",
   "metadata": {},
   "source": []
  },
  {
   "cell_type": "markdown",
   "metadata": {},
   "source": [
    "## Conda Codes\n",
    "\n",
    "### List of Environments: \n",
    "\n",
    "> conda env list"
   ]
  },
  {
   "cell_type": "code",
   "execution_count": 6,
   "metadata": {},
   "outputs": [
    {
     "name": "stdout",
     "output_type": "stream",
     "text": [
      "# conda environments:\n",
      "#\n",
      "base                  *  C:\\Users\\Rakyan\\Anaconda3\n",
      "data-analytics           C:\\Users\\Rakyan\\Anaconda3\\envs\\data-analytics\n",
      "r-reticulate             C:\\Users\\Rakyan\\Anaconda3\\envs\\r-reticulate\n",
      "r-tensorflow             C:\\Users\\Rakyan\\Anaconda3\\envs\\r-tensorflow\n",
      "rstudio                  C:\\Users\\Rakyan\\Anaconda3\\envs\\rstudio\n",
      "\n",
      "\n",
      "Note: you may need to restart the kernel to use updated packages.\n"
     ]
    }
   ],
   "source": [
    "conda env list"
   ]
  },
  {
   "cell_type": "markdown",
   "metadata": {},
   "source": [
    "### To create new virtual enviroment: \n",
    "\n",
    "> conda create -n **{environment name}** python=**3.7**\n",
    "\n",
    "### To 'activate' *(enter into)* any virtual environment:\n",
    "\n",
    "> conda activate **(environment name)**\n",
    "\n",
    "### To install packages:\n",
    "\n",
    "> conda install **(package name)**\n",
    "\n",
    "#### List of available conda packages: \n",
    "\n",
    "1. *pandas*\n",
    "2. *jupyter*\n",
    "3. *nb_conda_kernels*\n",
    "\n",
    "### To *deactivate* from the current environment\n",
    "\n",
    "> conda deactivate"
   ]
  }
 ],
 "metadata": {
  "kernelspec": {
   "display_name": "Python 3",
   "language": "python",
   "name": "python3"
  },
  "language_info": {
   "codemirror_mode": {
    "name": "ipython",
    "version": 3
   },
   "file_extension": ".py",
   "mimetype": "text/x-python",
   "name": "python",
   "nbconvert_exporter": "python",
   "pygments_lexer": "ipython3",
   "version": "3.7.1"
  },
  "latex_envs": {
   "LaTeX_envs_menu_present": true,
   "autoclose": false,
   "autocomplete": true,
   "bibliofile": "biblio.bib",
   "cite_by": "apalike",
   "current_citInitial": 1,
   "eqLabelWithNumbers": true,
   "eqNumInitial": 1,
   "hotkeys": {
    "equation": "Ctrl-E",
    "itemize": "Ctrl-I"
   },
   "labels_anchors": false,
   "latex_user_defs": false,
   "report_style_numbering": false,
   "user_envs_cfg": false
  },
  "toc": {
   "base_numbering": 1,
   "nav_menu": {},
   "number_sections": true,
   "sideBar": true,
   "skip_h1_title": false,
   "title_cell": "Table of Contents",
   "title_sidebar": "Contents",
   "toc_cell": false,
   "toc_position": {},
   "toc_section_display": true,
   "toc_window_display": false
  }
 },
 "nbformat": 4,
 "nbformat_minor": 2
}
