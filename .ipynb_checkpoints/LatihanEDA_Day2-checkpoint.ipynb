{
 "cells": [
  {
   "cell_type": "markdown",
   "metadata": {},
   "source": [
    "# Latihan EDA (Crosstab & Pivot Table)"
   ]
  },
  {
   "cell_type": "markdown",
   "metadata": {},
   "source": [
    "1. Baca data `salary.csv`. Lakukan tabulasi silang untuk menghitung jumlah karyawan yang ada pada Group (technical and engineering vs managerial) vs Py Type (Full Time vs Part Time). Ada berapa karyawan disetiap intersectionnya?"
   ]
  },
  {
   "cell_type": "code",
   "execution_count": null,
   "metadata": {},
   "outputs": [],
   "source": [
    "### code below\n",
    "\n",
    "\n",
    "\n",
    "#"
   ]
  },
  {
   "cell_type": "markdown",
   "metadata": {},
   "source": [
    "2. Lakukan hal yang sama dengan soal no 1. Hitung rata-rata gaji karyawan pada setiap intersectionnya!"
   ]
  },
  {
   "cell_type": "code",
   "execution_count": null,
   "metadata": {},
   "outputs": [],
   "source": [
    "### code below\n",
    "\n",
    "\n",
    "\n",
    "#"
   ]
  },
  {
   "cell_type": "markdown",
   "metadata": {},
   "source": [
    "3. Kembali ke data `new_retail.csv`. Dengan menggunakan pivot_table, hitung total barang yang terjual dan terkirim berdasarkan Category dan Sub-Catgory. Gunakan Sub-Category sebagai index. Tambahkan sub total untuk setiap intersectionnya."
   ]
  },
  {
   "cell_type": "code",
   "execution_count": null,
   "metadata": {},
   "outputs": [],
   "source": [
    "### code below\n",
    "\n",
    "\n",
    "\n",
    "\n",
    "#"
   ]
  },
  {
   "cell_type": "markdown",
   "metadata": {},
   "source": [
    "4. Lakukan hal yang sama dengan soal no 3. Hitung rata-rata penjualan barang pada setiap intersectionnya! Manakah sub-category yang menghasilkan sales tertinggi? Sebutkan nama barang yang memiliki penjualan tertinggi pada Sub-Category tersebut!"
   ]
  },
  {
   "cell_type": "code",
   "execution_count": null,
   "metadata": {},
   "outputs": [],
   "source": [
    "### code below\n",
    "\n",
    "\n",
    "\n",
    "\n",
    "#"
   ]
  },
  {
   "cell_type": "markdown",
   "metadata": {},
   "source": [
    "# Latihan EDA (Datetime)"
   ]
  },
  {
   "cell_type": "markdown",
   "metadata": {},
   "source": [
    "5. Lakukanlah analisa rata-rata penjualan setiap tahun untuk masing-masing Category. Tambahkan kolom untuk menghitung subtotal rata-rata penjualan barang. Apakah ada perbedaan rata-rata penjualan setiap tahunnya? Pada tahun berapa di data kita yang menghasilkan rata-rata sales tertinggi?"
   ]
  },
  {
   "cell_type": "code",
   "execution_count": null,
   "metadata": {},
   "outputs": [],
   "source": [
    "### code below\n",
    "\n",
    "\n",
    "\n",
    "\n",
    "#"
   ]
  },
  {
   "cell_type": "markdown",
   "metadata": {},
   "source": [
    "6. Katakanlah kita ingin melihat trend pengiriman barang per hari (weekdays). Dengan menggunakan crosstab, tunjukkan transaksi setiap mode pengiriman barang per harinya. Tunjukkan hasil analisis yang Anda temukan\n"
   ]
  },
  {
   "cell_type": "code",
   "execution_count": null,
   "metadata": {},
   "outputs": [],
   "source": [
    "### code below\n",
    "\n",
    "\n",
    "\n",
    "\n",
    "#"
   ]
  },
  {
   "cell_type": "markdown",
   "metadata": {},
   "source": [
    "7. Katakanlah kita akan melakukan analisis transaksi pemesanan pada tahun 2016. Dengan menggunakan pivot_table, tunjukkan total transaksi pemesanan barang per kuartal untuk semua segmen konsumen. Tunjukkan insight yang berhasil anda temukan.\n"
   ]
  },
  {
   "cell_type": "code",
   "execution_count": null,
   "metadata": {},
   "outputs": [],
   "source": [
    "### code below\n",
    "\n",
    "\n",
    "\n",
    "\n",
    "#"
   ]
  }
 ],
 "metadata": {
  "kernelspec": {
   "display_name": "Python 3",
   "language": "python",
   "name": "python3"
  },
  "language_info": {
   "codemirror_mode": {
    "name": "ipython",
    "version": 3
   },
   "file_extension": ".py",
   "mimetype": "text/x-python",
   "name": "python",
   "nbconvert_exporter": "python",
   "pygments_lexer": "ipython3",
   "version": "3.7.3"
  },
  "toc": {
   "base_numbering": 1,
   "nav_menu": {},
   "number_sections": true,
   "sideBar": true,
   "skip_h1_title": true,
   "title_cell": "Table of Contents",
   "title_sidebar": "Contents",
   "toc_cell": false,
   "toc_position": {
    "height": "calc(100% - 180px)",
    "left": "10px",
    "top": "150px",
    "width": "256px"
   },
   "toc_section_display": true,
   "toc_window_display": true
  }
 },
 "nbformat": 4,
 "nbformat_minor": 2
}
