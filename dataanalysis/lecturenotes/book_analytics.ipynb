{
 "cells": [
  {
   "cell_type": "markdown",
   "metadata": {},
   "source": [
    "# Background"
   ]
  },
  {
   "cell_type": "markdown",
   "metadata": {},
   "source": [
    "The following document describes our analysis on a dataset of more than 13,700 books as an attempt to discover any useful insights for our company"
   ]
  },
  {
   "cell_type": "code",
   "execution_count": 4,
   "metadata": {},
   "outputs": [
    {
     "data": {
      "text/plain": [
       "(13714, 10)"
      ]
     },
     "execution_count": 4,
     "metadata": {},
     "output_type": "execute_result"
    }
   ],
   "source": [
    "import pandas as pd\n",
    "books_ori = pd.read_csv(\"data_input/books_c.csv\")\n",
    "book = books_ori.copy()\n",
    "books.shape"
   ]
  },
  {
   "cell_type": "markdown",
   "metadata": {},
   "source": [
    "Understanding our data is crucial to this analysis. We start off by looking at the data types in each columns of our dataset:"
   ]
  },
  {
   "cell_type": "code",
   "execution_count": 5,
   "metadata": {},
   "outputs": [
    {
     "data": {
      "text/plain": [
       "bookID                  int64\n",
       "title                  object\n",
       "authors                object\n",
       "average_rating        float64\n",
       "isbn                   object\n",
       "isbn13                  int64\n",
       "language_code          object\n",
       "# num_pages             int64\n",
       "ratings_count           int64\n",
       "text_reviews_count      int64\n",
       "dtype: object"
      ]
     },
     "execution_count": 5,
     "metadata": {},
     "output_type": "execute_result"
    }
   ],
   "source": [
    "books.dtypes"
   ]
  },
  {
   "cell_type": "markdown",
   "metadata": {},
   "source": [
    "Perform a type conversion so both `isbn` and `isbn13` share the same type. This adds consistency to our exploratory data analysis process later on:"
   ]
  },
  {
   "cell_type": "code",
   "execution_count": 6,
   "metadata": {},
   "outputs": [
    {
     "data": {
      "text/plain": [
       "bookID                  int64\n",
       "title                  object\n",
       "authors                object\n",
       "average_rating        float64\n",
       "isbn                   object\n",
       "isbn13                 object\n",
       "language_code          object\n",
       "# num_pages             int64\n",
       "ratings_count           int64\n",
       "text_reviews_count      int64\n",
       "dtype: object"
      ]
     },
     "execution_count": 6,
     "metadata": {},
     "output_type": "execute_result"
    }
   ],
   "source": [
    "books['isbn13'] = books['isbn13'].astype('object')\n",
    "books.dtypes"
   ]
  },
  {
   "cell_type": "markdown",
   "metadata": {},
   "source": [
    "It's useful to start off our analysis by looking at the top 3 most prolific authors according to our company's data:"
   ]
  },
  {
   "cell_type": "code",
   "execution_count": 36,
   "metadata": {},
   "outputs": [
    {
     "data": {
      "text/plain": [
       "['Agatha Christie', 'Stephen King', 'Orson Scott Card']"
      ]
     },
     "execution_count": 36,
     "metadata": {},
     "output_type": "execute_result"
    }
   ],
   "source": [
    "mylist = books['authors'].value_counts().head(3).index.to_list()\n",
    "mylist"
   ]
  },
  {
   "cell_type": "markdown",
   "metadata": {},
   "source": [
    "Our scout Andy recommended us to sign J.K. Rowling, a promising author from Great Britain. We want to present a more data-driven argument as to make the case of whether we should be splashing top cash to signing her under our publishing label:"
   ]
  },
  {
   "cell_type": "code",
   "execution_count": 11,
   "metadata": {},
   "outputs": [
    {
     "data": {
      "text/plain": [
       "4.52"
      ]
     },
     "execution_count": 11,
     "metadata": {},
     "output_type": "execute_result"
    }
   ],
   "source": [
    "cond1 = books['authors'] == 'J.K. Rowling'\n",
    "mean_ratings = books.loc[cond1, 'average_rating'].mean()\n",
    "round(mean_ratings, 2)"
   ]
  },
  {
   "cell_type": "markdown",
   "metadata": {},
   "source": [
    "To help the company acquire shelf-worthy titles, I've compiled a list of commercially successful books with great ratings. These are the top 10 books:"
   ]
  },
  {
   "cell_type": "code",
   "execution_count": 12,
   "metadata": {},
   "outputs": [
    {
     "data": {
      "text/plain": [
       "Index(['bookID', 'title', 'authors', 'average_rating', 'isbn', 'isbn13',\n",
       "       'language_code', '# num_pages', 'ratings_count', 'text_reviews_count'],\n",
       "      dtype='object')"
      ]
     },
     "execution_count": 12,
     "metadata": {},
     "output_type": "execute_result"
    }
   ],
   "source": [
    "books.columns"
   ]
  },
  {
   "cell_type": "code",
   "execution_count": 22,
   "metadata": {},
   "outputs": [
    {
     "data": {
      "text/html": [
       "<div>\n",
       "<style scoped>\n",
       "    .dataframe tbody tr th:only-of-type {\n",
       "        vertical-align: middle;\n",
       "    }\n",
       "\n",
       "    .dataframe tbody tr th {\n",
       "        vertical-align: top;\n",
       "    }\n",
       "\n",
       "    .dataframe thead th {\n",
       "        text-align: right;\n",
       "    }\n",
       "</style>\n",
       "<table border=\"1\" class=\"dataframe\">\n",
       "  <thead>\n",
       "    <tr style=\"text-align: right;\">\n",
       "      <th></th>\n",
       "      <th>title</th>\n",
       "      <th>authors</th>\n",
       "      <th>average_rating</th>\n",
       "      <th>ratings_count</th>\n",
       "    </tr>\n",
       "  </thead>\n",
       "  <tbody>\n",
       "    <tr>\n",
       "      <th>0</th>\n",
       "      <td>Harry Potter and the Half-Blood Prince (Harry ...</td>\n",
       "      <td>J.K. Rowling</td>\n",
       "      <td>4.56</td>\n",
       "      <td>1944099</td>\n",
       "    </tr>\n",
       "    <tr>\n",
       "      <th>4</th>\n",
       "      <td>Harry Potter and the Prisoner of Azkaban (Harr...</td>\n",
       "      <td>J.K. Rowling</td>\n",
       "      <td>4.55</td>\n",
       "      <td>2149872</td>\n",
       "    </tr>\n",
       "    <tr>\n",
       "      <th>1</th>\n",
       "      <td>Harry Potter and the Order of the Phoenix (Har...</td>\n",
       "      <td>J.K. Rowling</td>\n",
       "      <td>4.49</td>\n",
       "      <td>1996446</td>\n",
       "    </tr>\n",
       "    <tr>\n",
       "      <th>2</th>\n",
       "      <td>Harry Potter and the Sorcerer's Stone (Harry P...</td>\n",
       "      <td>J.K. Rowling</td>\n",
       "      <td>4.47</td>\n",
       "      <td>5629932</td>\n",
       "    </tr>\n",
       "    <tr>\n",
       "      <th>4455</th>\n",
       "      <td>A Game of Thrones (A Song of Ice and Fire  #1)</td>\n",
       "      <td>George R.R. Martin</td>\n",
       "      <td>4.45</td>\n",
       "      <td>1598396</td>\n",
       "    </tr>\n",
       "    <tr>\n",
       "      <th>5300</th>\n",
       "      <td>Harry Potter and the Chamber of Secrets (Harry...</td>\n",
       "      <td>J.K. Rowling</td>\n",
       "      <td>4.41</td>\n",
       "      <td>2115562</td>\n",
       "    </tr>\n",
       "    <tr>\n",
       "      <th>6363</th>\n",
       "      <td>The Book Thief</td>\n",
       "      <td>Markus Zusak</td>\n",
       "      <td>4.37</td>\n",
       "      <td>1410666</td>\n",
       "    </tr>\n",
       "    <tr>\n",
       "      <th>25</th>\n",
       "      <td>The Fellowship of the Ring (The Lord of the Ri...</td>\n",
       "      <td>J.R.R. Tolkien</td>\n",
       "      <td>4.35</td>\n",
       "      <td>2009749</td>\n",
       "    </tr>\n",
       "    <tr>\n",
       "      <th>9319</th>\n",
       "      <td>Where the Sidewalk Ends</td>\n",
       "      <td>Shel Silverstein</td>\n",
       "      <td>4.30</td>\n",
       "      <td>1094416</td>\n",
       "    </tr>\n",
       "    <tr>\n",
       "      <th>2000</th>\n",
       "      <td>The Hobbit or There and Back Again</td>\n",
       "      <td>J.R.R. Tolkien</td>\n",
       "      <td>4.26</td>\n",
       "      <td>2364968</td>\n",
       "    </tr>\n",
       "  </tbody>\n",
       "</table>\n",
       "</div>"
      ],
      "text/plain": [
       "                                                  title             authors  \\\n",
       "0     Harry Potter and the Half-Blood Prince (Harry ...        J.K. Rowling   \n",
       "4     Harry Potter and the Prisoner of Azkaban (Harr...        J.K. Rowling   \n",
       "1     Harry Potter and the Order of the Phoenix (Har...        J.K. Rowling   \n",
       "2     Harry Potter and the Sorcerer's Stone (Harry P...        J.K. Rowling   \n",
       "4455     A Game of Thrones (A Song of Ice and Fire  #1)  George R.R. Martin   \n",
       "5300  Harry Potter and the Chamber of Secrets (Harry...        J.K. Rowling   \n",
       "6363                                     The Book Thief        Markus Zusak   \n",
       "25    The Fellowship of the Ring (The Lord of the Ri...      J.R.R. Tolkien   \n",
       "9319                            Where the Sidewalk Ends    Shel Silverstein   \n",
       "2000                 The Hobbit or There and Back Again      J.R.R. Tolkien   \n",
       "\n",
       "      average_rating  ratings_count  \n",
       "0               4.56        1944099  \n",
       "4               4.55        2149872  \n",
       "1               4.49        1996446  \n",
       "2               4.47        5629932  \n",
       "4455            4.45        1598396  \n",
       "5300            4.41        2115562  \n",
       "6363            4.37        1410666  \n",
       "25              4.35        2009749  \n",
       "9319            4.30        1094416  \n",
       "2000            4.26        2364968  "
      ]
     },
     "execution_count": 22,
     "metadata": {},
     "output_type": "execute_result"
    }
   ],
   "source": [
    "cond1 = books['ratings_count'] > 1000000\n",
    "greatbooks = books.loc[cond1, ].sort_values('average_rating', ascending=False).head(10)\n",
    "result = greatbooks.loc[:,['title', 'authors', 'average_rating', 'ratings_count']]\n",
    "result"
   ]
  },
  {
   "cell_type": "code",
   "execution_count": 38,
   "metadata": {},
   "outputs": [
    {
     "data": {
      "text/plain": [
       "eng      10594\n",
       "en-US     1699\n",
       "spa        419\n",
       "en-GB      341\n",
       "ger        238\n",
       "fre        209\n",
       "jpn         64\n",
       "por         27\n",
       "mul         21\n",
       "ita         19\n",
       "zho         16\n",
       "grc         12\n",
       "en-CA        9\n",
       "nl           7\n",
       "rus          7\n",
       "swe          6\n",
       "glg          4\n",
       "tur          3\n",
       "enm          3\n",
       "cat          3\n",
       "lat          3\n",
       "ara          2\n",
       "heb          1\n",
       "nor          1\n",
       "wel          1\n",
       "msa          1\n",
       "dan          1\n",
       "gla          1\n",
       "srp          1\n",
       "ale          1\n",
       "Name: language_code, dtype: int64"
      ]
     },
     "execution_count": 38,
     "metadata": {},
     "output_type": "execute_result"
    }
   ],
   "source": [
    "books.language_code.value_counts()"
   ]
  },
  {
   "cell_type": "code",
   "execution_count": 26,
   "metadata": {},
   "outputs": [
    {
     "data": {
      "text/plain": [
       "'<table border=\"1\" class=\"dataframe\">\\n  <thead>\\n    <tr style=\"text-align: right;\">\\n      <th></th>\\n      <th>title</th>\\n      <th>authors</th>\\n      <th>average_rating</th>\\n      <th>ratings_count</th>\\n    </tr>\\n  </thead>\\n  <tbody>\\n    <tr>\\n      <th>0</th>\\n      <td>Harry Potter and the Half-Blood Prince (Harry ...</td>\\n      <td>J.K. Rowling</td>\\n      <td>4.56</td>\\n      <td>1944099</td>\\n    </tr>\\n    <tr>\\n      <th>4</th>\\n      <td>Harry Potter and the Prisoner of Azkaban (Harr...</td>\\n      <td>J.K. Rowling</td>\\n      <td>4.55</td>\\n      <td>2149872</td>\\n    </tr>\\n    <tr>\\n      <th>1</th>\\n      <td>Harry Potter and the Order of the Phoenix (Har...</td>\\n      <td>J.K. Rowling</td>\\n      <td>4.49</td>\\n      <td>1996446</td>\\n    </tr>\\n    <tr>\\n      <th>2</th>\\n      <td>Harry Potter and the Sorcerer\\'s Stone (Harry P...</td>\\n      <td>J.K. Rowling</td>\\n      <td>4.47</td>\\n      <td>5629932</td>\\n    </tr>\\n    <tr>\\n      <th>4455</th>\\n      <td>A Game of Thrones (A Song of Ice and Fire  #1)</td>\\n      <td>George R.R. Martin</td>\\n      <td>4.45</td>\\n      <td>1598396</td>\\n    </tr>\\n    <tr>\\n      <th>5300</th>\\n      <td>Harry Potter and the Chamber of Secrets (Harry...</td>\\n      <td>J.K. Rowling</td>\\n      <td>4.41</td>\\n      <td>2115562</td>\\n    </tr>\\n    <tr>\\n      <th>6363</th>\\n      <td>The Book Thief</td>\\n      <td>Markus Zusak</td>\\n      <td>4.37</td>\\n      <td>1410666</td>\\n    </tr>\\n    <tr>\\n      <th>25</th>\\n      <td>The Fellowship of the Ring (The Lord of the Ri...</td>\\n      <td>J.R.R. Tolkien</td>\\n      <td>4.35</td>\\n      <td>2009749</td>\\n    </tr>\\n    <tr>\\n      <th>9319</th>\\n      <td>Where the Sidewalk Ends</td>\\n      <td>Shel Silverstein</td>\\n      <td>4.30</td>\\n      <td>1094416</td>\\n    </tr>\\n    <tr>\\n      <th>2000</th>\\n      <td>The Hobbit or There and Back Again</td>\\n      <td>J.R.R. Tolkien</td>\\n      <td>4.26</td>\\n      <td>2364968</td>\\n    </tr>\\n  </tbody>\\n</table>'"
      ]
     },
     "execution_count": 26,
     "metadata": {},
     "output_type": "execute_result"
    }
   ],
   "source": [
    "result.to_html()"
   ]
  }
 ],
 "metadata": {
  "kernelspec": {
   "display_name": "dataanalysis",
   "language": "python",
   "name": "dataanalysis"
  },
  "language_info": {
   "codemirror_mode": {
    "name": "ipython",
    "version": 3
   },
   "file_extension": ".py",
   "mimetype": "text/x-python",
   "name": "python",
   "nbconvert_exporter": "python",
   "pygments_lexer": "ipython3",
   "version": "3.7.2"
  }
 },
 "nbformat": 4,
 "nbformat_minor": 2
}
